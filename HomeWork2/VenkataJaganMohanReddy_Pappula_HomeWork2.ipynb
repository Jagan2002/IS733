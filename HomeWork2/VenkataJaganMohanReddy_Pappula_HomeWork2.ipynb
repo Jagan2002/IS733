{
 "cells": [
  {
   "cell_type": "code",
   "execution_count": 55,
   "id": "2221a1da-2f64-498e-9aa0-3a7677c4882b",
   "metadata": {},
   "outputs": [
    {
     "data": {
      "text/plain": [
       "(   citric acid  sulphates  alcohol  type\n",
       " 0         0.49       0.63      8.0   low\n",
       " 1         0.66       0.57      8.3   low\n",
       " 2         0.23       0.44      8.5  high\n",
       " 3         0.44       0.84      8.6   low\n",
       " 4         0.08       0.50      8.7   low,\n",
       "    citric acid  sulphates  alcohol type\n",
       " 0         0.24       0.52      9.4  low\n",
       " 1         0.49       0.56      9.4  low\n",
       " 2         0.66       0.73     10.0  low\n",
       " 3         0.32       0.77     10.0  low\n",
       " 4         0.38       0.82     10.0  low)"
      ]
     },
     "execution_count": 55,
     "metadata": {},
     "output_type": "execute_result"
    }
   ],
   "source": [
    "import pandas as pd\n",
    "from ydata_profiling import ProfileReport\n",
    "import numpy as np\n",
    "from sklearn.model_selection import cross_val_score, KFold\n",
    "from sklearn.dummy import DummyClassifier\n",
    "from sklearn.linear_model import LogisticRegression\n",
    "from sklearn.naive_bayes import GaussianNB\n",
    "from sklearn.tree import DecisionTreeClassifier\n",
    "from sklearn.svm import SVC\n",
    "from sklearn.ensemble import RandomForestClassifier\n",
    "from sklearn.preprocessing import LabelEncoder\n",
    "from sklearn.model_selection import train_test_split\n",
    "from sklearn.ensemble import RandomForestClassifier\n",
    "from sklearn.metrics import roc_auc_score,roc_curve, auc\n",
    "import matplotlib.pyplot as plt\n",
    "\n",
    "\n",
    "\n",
    "%matplotlib inline\n",
    "\n",
    "red_wine_path = 'red_wine.csv'\n",
    "white_wine_path = 'white_wine.csv'\n",
    "\n",
    "red_wine_df = pd.read_csv(red_wine_path)\n",
    "white_wine_df = pd.read_csv(white_wine_path)\n",
    "\n",
    "red_wine_df.head(), white_wine_df.head()"
   ]
  },
  {
   "cell_type": "code",
   "execution_count": 57,
   "id": "f7d3dee2-b73d-43a7-9354-b607d8694fbe",
   "metadata": {},
   "outputs": [
    {
     "data": {
      "application/vnd.jupyter.widget-view+json": {
       "model_id": "f7ed45638bf44ae98ee1ff97dfc20014",
       "version_major": 2,
       "version_minor": 0
      },
      "text/plain": [
       "Summarize dataset:   0%|          | 0/5 [00:00<?, ?it/s]"
      ]
     },
     "metadata": {},
     "output_type": "display_data"
    },
    {
     "data": {
      "application/vnd.jupyter.widget-view+json": {
       "model_id": "619afd471e5e4b4c8aebef25e1252efa",
       "version_major": 2,
       "version_minor": 0
      },
      "text/plain": [
       "Generate report structure:   0%|          | 0/1 [00:00<?, ?it/s]"
      ]
     },
     "metadata": {},
     "output_type": "display_data"
    },
    {
     "data": {
      "application/vnd.jupyter.widget-view+json": {
       "model_id": "03799908e16d48c9a57ec50f69d15c5a",
       "version_major": 2,
       "version_minor": 0
      },
      "text/plain": [
       "Render HTML:   0%|          | 0/1 [00:00<?, ?it/s]"
      ]
     },
     "metadata": {},
     "output_type": "display_data"
    },
    {
     "data": {
      "application/vnd.jupyter.widget-view+json": {
       "model_id": "364333c7bb49484186340b19ca1a7d4a",
       "version_major": 2,
       "version_minor": 0
      },
      "text/plain": [
       "Export report to file:   0%|          | 0/1 [00:00<?, ?it/s]"
      ]
     },
     "metadata": {},
     "output_type": "display_data"
    }
   ],
   "source": [
    "red_wine_profile = ProfileReport(red_wine_df, title=\"Red Wine Dataset Profiling Report\", explorative=True)\n",
    "red_wine_profile.to_file(\"red_wine_profile_report.html\")"
   ]
  },
  {
   "cell_type": "code",
   "execution_count": 59,
   "id": "c84284c0-4d77-4a14-9343-2107963b8c65",
   "metadata": {},
   "outputs": [
    {
     "data": {
      "application/vnd.jupyter.widget-view+json": {
       "model_id": "7085d05dc9bb45c1b6d61fa2ab575f89",
       "version_major": 2,
       "version_minor": 0
      },
      "text/plain": [
       "Summarize dataset:   0%|          | 0/5 [00:00<?, ?it/s]"
      ]
     },
     "metadata": {},
     "output_type": "display_data"
    },
    {
     "data": {
      "application/vnd.jupyter.widget-view+json": {
       "model_id": "336a77add2e34b7590b7ef37199019ce",
       "version_major": 2,
       "version_minor": 0
      },
      "text/plain": [
       "Generate report structure:   0%|          | 0/1 [00:00<?, ?it/s]"
      ]
     },
     "metadata": {},
     "output_type": "display_data"
    },
    {
     "data": {
      "application/vnd.jupyter.widget-view+json": {
       "model_id": "6c3e6d0719f649529ac904fa2f4e3ddf",
       "version_major": 2,
       "version_minor": 0
      },
      "text/plain": [
       "Render HTML:   0%|          | 0/1 [00:00<?, ?it/s]"
      ]
     },
     "metadata": {},
     "output_type": "display_data"
    },
    {
     "data": {
      "application/vnd.jupyter.widget-view+json": {
       "model_id": "8b966f5e91e7469c8964e15ae6cab42f",
       "version_major": 2,
       "version_minor": 0
      },
      "text/plain": [
       "Export report to file:   0%|          | 0/1 [00:00<?, ?it/s]"
      ]
     },
     "metadata": {},
     "output_type": "display_data"
    }
   ],
   "source": [
    "white_wine_profile = ProfileReport(white_wine_df, title=\"White Wine Dataset Profiling Report\", explorative=True)\n",
    "white_wine_profile.to_file(\"white_wine_profile_report.html\")"
   ]
  },
  {
   "cell_type": "code",
   "execution_count": 61,
   "id": "98ca981d-44ba-4c45-ad06-09f24406ec3f",
   "metadata": {},
   "outputs": [
    {
     "name": "stdout",
     "output_type": "stream",
     "text": [
      "                 Model  AUC Score (10-Fold CV)  Accuracy (10-Fold CV)\n",
      "0             Baseline                0.500000               0.529068\n",
      "1  Logistic Regression                0.883773               0.788113\n",
      "2          Naive Bayes                0.898355               0.819661\n",
      "3        Decision Tree                0.811147               0.812553\n",
      "4           SVM-Linear                0.882741               0.793376\n",
      "5              SVM-RBF                0.861241               0.541349\n",
      "6        Random Forest                0.926733               0.851149\n"
     ]
    }
   ],
   "source": [
    "le = LabelEncoder()\n",
    "red_wine_df['type_encoded'] = le.fit_transform(red_wine_df['type'])\n",
    "\n",
    "X = red_wine_df.drop(columns=['type', 'type_encoded'])\n",
    "y = red_wine_df['type_encoded']\n",
    "\n",
    "kf = KFold(n_splits=10, shuffle=True, random_state=42)\n",
    "\n",
    "models = {\n",
    "    'Baseline': DummyClassifier(strategy=\"most_frequent\"),\n",
    "    'Logistic Regression': LogisticRegression(max_iter=1000),\n",
    "    'Naive Bayes': GaussianNB(),\n",
    "    'Decision Tree': DecisionTreeClassifier(),\n",
    "    'SVM-Linear': SVC(kernel='linear', probability=True),\n",
    "    'SVM-RBF': SVC(kernel='rbf', probability=True),\n",
    "    'Random Forest': RandomForestClassifier()\n",
    "}\n",
    "\n",
    "results = []\n",
    "\n",
    "for model_name, model in models.items():\n",
    "    auc_scores = cross_val_score(model, X, y, cv=kf, scoring='roc_auc')\n",
    "    accuracy_scores = cross_val_score(model, X, y, cv=kf, scoring='accuracy')\n",
    "    results.append({\n",
    "        \"Model\": model_name,\n",
    "        \"AUC Score (10-Fold CV)\": np.mean(auc_scores),\n",
    "        \"Accuracy (10-Fold CV)\": np.mean(accuracy_scores)\n",
    "    })\n",
    "\n",
    "results_df = pd.DataFrame(results)\n",
    "print(results_df)\n"
   ]
  },
  {
   "cell_type": "code",
   "execution_count": 63,
   "id": "1533ecc9-e01c-4d3e-9b84-c7383154b190",
   "metadata": {},
   "outputs": [
    {
     "data": {
      "image/png": "[encoded data removed]",
      "text/plain": [
       "<Figure size 800x600 with 1 Axes>"
      ]
     },
     "metadata": {},
     "output_type": "display_data"
    }
   ],
   "source": [
    "X_train, X_test, y_train, y_test = train_test_split(X, y, test_size=0.2, random_state=42)\n",
    "\n",
    "rf_model = RandomForestClassifier()\n",
    "rf_model.fit(X_train, y_train)\n",
    "\n",
    "y_prob = rf_model.predict_proba(X_test)[:, 1]\n",
    "fpr, tpr, _ = roc_curve(y_test, y_prob)\n",
    "roc_auc = auc(fpr, tpr)\n",
    "\n",
    "plt.figure(figsize=(8, 6))\n",
    "plt.plot(fpr, tpr, color='blue', label=f\"ROC curve (area = {roc_auc:.2f})\")\n",
    "plt.plot([0, 1], [0, 1], color='red', linestyle='--', label='Random Classifier (AUC = 0.5)')\n",
    "plt.xlabel(\"False Positive Rate\")\n",
    "plt.ylabel(\"True Positive Rate\")\n",
    "plt.title(\"ROC Curve for Random Forest Classifier on Test Set\")\n",
    "plt.legend(loc=\"lower right\")\n",
    "plt.show()\n"
   ]
  },
  {
   "cell_type": "code",
   "execution_count": 65,
   "id": "ea968fec-08b1-45af-bc97-826f8153d05b",
   "metadata": {},
   "outputs": [
    {
     "name": "stdout",
     "output_type": "stream",
     "text": [
      "White Wine Test AUC Score : 0.8363636363636364\n"
     ]
    }
   ],
   "source": [
    "white_wine_df = pd.read_csv(\"white_wine.csv\") \n",
    "\n",
    "X_white = white_wine_df.drop(columns=[\"type\"]) \n",
    "y_white = le.transform(white_wine_df[\"type\"])  \n",
    "\n",
    "X_train, X_test, y_train, y_test = train_test_split(X_white, y_white, test_size=0.2, random_state=42)\n",
    "\n",
    "rf_model_white = RandomForestClassifier()\n",
    "rf_model_white.fit(X_train, y_train)\n",
    "\n",
    "y_prob_test = rf_model_white.predict_proba(X_test)[:, 1]\n",
    "\n",
    "white_wine_auc = roc_auc_score(y_test, y_prob_test)\n",
    "print(f\"White Wine Test AUC Score : {white_wine_auc}\")\n"
   ]
  },
  {
   "cell_type": "code",
   "execution_count": null,
   "id": "102cf57f-a245-4417-a9c8-69448db8144e",
   "metadata": {},
   "outputs": [],
   "source": []
  }
 ],
 "metadata": {
  "kernelspec": {
   "display_name": "Python 3 (ipykernel)",
   "language": "python",
   "name": "python3"
  },
  "language_info": {
   "codemirror_mode": {
    "name": "ipython",
    "version": 3
   },
   "file_extension": ".py",
   "mimetype": "text/x-python",
   "name": "python",
   "nbconvert_exporter": "python",
   "pygments_lexer": "ipython3",
   "version": "3.12.4"
  }
 },
 "nbformat": 4,
 "nbformat_minor": 5
}
